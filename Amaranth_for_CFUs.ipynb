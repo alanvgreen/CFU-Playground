{
  "nbformat": 4,
  "nbformat_minor": 0,
  "metadata": {
    "colab": {
      "name": "Amaranth for CFUs.ipynb",
      "provenance": [],
      "collapsed_sections": [],
      "include_colab_link": true
    },
    "kernelspec": {
      "name": "python3",
      "display_name": "Python 3"
    },
    "language_info": {
      "name": "python"
    }
  },
  "cells": [
    {
      "cell_type": "markdown",
      "metadata": {
        "id": "view-in-github",
        "colab_type": "text"
      },
      "source": [
        "<a href=\"https://colab.research.google.com/github/alanvgreen/CFU-Playground/blob/fccm2/Amaranth_for_CFUs.ipynb\" target=\"_parent\"><img src=\"https://colab.research.google.com/assets/colab-badge.svg\" alt=\"Open In Colab\"/></a>"
      ]
    },
    {
      "cell_type": "markdown",
      "source": [
        "# Amaranth for CFUs\n",
        "\n",
        "```\n",
        "Copyright 2022 Google LLC.\n",
        "SPDX-License-Identifier: Apache-2.0\n",
        "```\n",
        "This page shows Amaranth's language features.\n",
        "\n",
        "* https://github.com/amaranth-lang/amaranth\n",
        "* Docs: https://amaranth-lang.org/docs/amaranth/latest/\n",
        "\n",
        "avg@google.com / 2022-04-19\n"
      ],
      "metadata": {
        "id": "PdsQhK8_h0hK"
      }
    },
    {
      "cell_type": "code",
      "metadata": {
        "colab": {
          "base_uri": "https://localhost:8080/"
        },
        "id": "oqut0qU76jNx",
        "outputId": "157b73fc-3427-4635-e3b3-6fd642066a01",
        "collapsed": true
      },
      "source": [
        "# Install Amaranth \n",
        "!pip install --upgrade 'amaranth[builtin-yosys]'\n",
        "\n",
        "# CFU-Playground library\n",
        "!git clone https://github.com/google/CFU-Playground.git\n",
        "import sys\n",
        "sys.path.append('CFU-Playground/python')\n",
        "\n",
        "# Imports\n",
        "from amaranth import *\n",
        "from amaranth.back import verilog\n",
        "from amaranth.sim import Delay, Simulator, Tick\n",
        "from amaranth_cfu import TestBase, SimpleElaboratable, pack_vals, simple_cfu, InstructionBase, CfuTestBase\n",
        "import re, unittest\n",
        "\n",
        "# Utility to convert Amaranth to verilog \n",
        "def convert_elaboratable(elaboratable):\n",
        "  v = verilog.convert(elaboratable, name='Top', ports=elaboratable.ports)\n",
        "  v = re.sub(r'\\(\\*.*\\*\\)', '', v)\n",
        "  return re.sub(r'^ *\\n', '\\n', v, flags=re.MULTILINE)\n",
        "\n",
        "def runTests(klazz):\n",
        "  loader = unittest.TestLoader()\n",
        "  suite = unittest.TestSuite()\n",
        "  suite.addTests(loader.loadTestsFromTestCase(klazz))\n",
        "  runner = unittest.TextTestRunner()\n",
        "  runner.run(suite)"
      ],
      "execution_count": null,
      "outputs": [
        {
          "output_type": "stream",
          "name": "stdout",
          "text": [
            "Collecting amaranth[builtin-yosys]\n",
            "  Downloading amaranth-0.3-py3-none-any.whl (167 kB)\n",
            "\u001b[?25l\r\u001b[K     |██                              | 10 kB 23.1 MB/s eta 0:00:01\r\u001b[K     |████                            | 20 kB 11.4 MB/s eta 0:00:01\r\u001b[K     |█████▉                          | 30 kB 9.1 MB/s eta 0:00:01\r\u001b[K     |███████▉                        | 40 kB 8.2 MB/s eta 0:00:01\r\u001b[K     |█████████▊                      | 51 kB 6.3 MB/s eta 0:00:01\r\u001b[K     |███████████▊                    | 61 kB 7.4 MB/s eta 0:00:01\r\u001b[K     |█████████████▊                  | 71 kB 6.7 MB/s eta 0:00:01\r\u001b[K     |███████████████▋                | 81 kB 6.7 MB/s eta 0:00:01\r\u001b[K     |█████████████████▋              | 92 kB 7.4 MB/s eta 0:00:01\r\u001b[K     |███████████████████▌            | 102 kB 7.2 MB/s eta 0:00:01\r\u001b[K     |█████████████████████▌          | 112 kB 7.2 MB/s eta 0:00:01\r\u001b[K     |███████████████████████▍        | 122 kB 7.2 MB/s eta 0:00:01\r\u001b[K     |█████████████████████████▍      | 133 kB 7.2 MB/s eta 0:00:01\r\u001b[K     |███████████████████████████▍    | 143 kB 7.2 MB/s eta 0:00:01\r\u001b[K     |█████████████████████████████▎  | 153 kB 7.2 MB/s eta 0:00:01\r\u001b[K     |███████████████████████████████▎| 163 kB 7.2 MB/s eta 0:00:01\r\u001b[K     |████████████████████████████████| 167 kB 7.2 MB/s \n",
            "\u001b[?25hRequirement already satisfied: importlib-resources in /usr/local/lib/python3.7/dist-packages (from amaranth[builtin-yosys]) (5.7.1)\n",
            "Requirement already satisfied: importlib-metadata in /usr/local/lib/python3.7/dist-packages (from amaranth[builtin-yosys]) (4.11.3)\n",
            "Requirement already satisfied: Jinja2~=2.11 in /usr/local/lib/python3.7/dist-packages (from amaranth[builtin-yosys]) (2.11.3)\n",
            "Collecting pyvcd~=0.2.2\n",
            "  Downloading pyvcd-0.2.4-py2.py3-none-any.whl (17 kB)\n",
            "Collecting amaranth-yosys>=0.10.*\n",
            "  Downloading amaranth_yosys-0.10.0.dev46-py3-none-any.whl (762 kB)\n",
            "\u001b[K     |████████████████████████████████| 762 kB 40.7 MB/s \n",
            "\u001b[?25hCollecting wasmtime<0.33,>=0.30\n",
            "  Downloading wasmtime-0.32.0-py3-none-manylinux1_x86_64.whl (5.3 MB)\n",
            "\u001b[K     |████████████████████████████████| 5.3 MB 27.9 MB/s \n",
            "\u001b[?25hRequirement already satisfied: zipp>=3.1.0 in /usr/local/lib/python3.7/dist-packages (from importlib-resources->amaranth[builtin-yosys]) (3.8.0)\n",
            "Requirement already satisfied: MarkupSafe>=0.23 in /usr/local/lib/python3.7/dist-packages (from Jinja2~=2.11->amaranth[builtin-yosys]) (2.0.1)\n",
            "Requirement already satisfied: typing-extensions>=3.6.4 in /usr/local/lib/python3.7/dist-packages (from importlib-metadata->amaranth[builtin-yosys]) (4.2.0)\n",
            "Installing collected packages: wasmtime, pyvcd, amaranth-yosys, amaranth\n",
            "Successfully installed amaranth-0.3 amaranth-yosys-0.10.0.dev46 pyvcd-0.2.4 wasmtime-0.32.0\n",
            "Cloning into 'CFU-Playground'...\n",
            "remote: Enumerating objects: 13623, done.\u001b[K\n",
            "remote: Counting objects: 100% (344/344), done.\u001b[K\n",
            "remote: Compressing objects: 100% (203/203), done.\u001b[K\n",
            "remote: Total 13623 (delta 179), reused 221 (delta 109), pack-reused 13279\u001b[K\n",
            "Receiving objects: 100% (13623/13623), 15.19 MiB | 18.97 MiB/s, done.\n",
            "Resolving deltas: 100% (8629/8629), done.\n"
          ]
        }
      ]
    },
    {
      "cell_type": "code",
      "source": [
        "# Single Multiply-Add\n",
        "class SingleMultiply(SimpleElaboratable):\n",
        "  def __init__(self):\n",
        "    self.a = Signal(signed(8))\n",
        "    self.b = Signal(signed(8))\n",
        "    self.result = Signal(signed(32))\n",
        "  def elab(self, m):\n",
        "    m.d.comb += self.result.eq((self.a + 128) * self.b)\n",
        "\n",
        "class SingleMultiplyTest(TestBase):\n",
        "  def create_dut(self):\n",
        "    return SingleMultiply()\n",
        "  def test(self):\n",
        "    TEST_CASE = [\n",
        "      (1-128, 1, 1),\n",
        "      (33-128, -25, 33*-25),\n",
        "    ]\n",
        "    def process():\n",
        "      for (a, b, expected) in TEST_CASE:\n",
        "        yield self.dut.a.eq(a)\n",
        "        yield self.dut.b.eq(b)\n",
        "        yield Delay(0.1)\n",
        "        self.assertEqual(expected, (yield self.dut.result))\n",
        "        yield\n",
        "    self.run_sim(process)\n",
        "\n",
        "runTests(SingleMultiplyTest)"
      ],
      "metadata": {
        "colab": {
          "base_uri": "https://localhost:8080/"
        },
        "id": "gMFhY1ynjoEP",
        "outputId": "643863da-3de6-4a43-bf45-cc10f9aeb155"
      },
      "execution_count": null,
      "outputs": [
        {
          "output_type": "stream",
          "name": "stderr",
          "text": [
            "CFU-Playground/python/amaranth_cfu/util.py:121: UnusedElaboratable: <amaranth_cfu.util._DummySyncModule object at 0x7f16a6055510> created but never used\n",
            "  self.m.submodules['dummy'] = _DummySyncModule()\n",
            "UnusedElaboratable: Enable tracemalloc to get the object allocation traceback\n",
            "CFU-Playground/python/amaranth_cfu/util.py:90: UnusedElaboratable: <amaranth.hdl.dsl.Module object at 0x7f16a6055610> created but never used\n",
            "  self.m = Module()\n",
            "UnusedElaboratable: Enable tracemalloc to get the object allocation traceback\n",
            ".\n",
            "----------------------------------------------------------------------\n",
            "Ran 1 test in 0.005s\n",
            "\n",
            "OK\n"
          ]
        }
      ]
    },
    {
      "cell_type": "code",
      "source": [
        "# four multiply-adds\n",
        "\n",
        "class WordMultiplyAdd(SimpleElaboratable):\n",
        "  def __init__(self):\n",
        "    self.a_word = Signal(32)\n",
        "    self.b_word = Signal(32)\n",
        "    self.result = Signal(signed(32))\n",
        "  def elab(self, m):\n",
        "    a_bytes = [self.a_word[i:i+8].as_signed() for i in range(0, 32, 8)]\n",
        "    b_bytes = [self.b_word[i:i+8].as_signed() for i in range(0, 32, 8)]\n",
        "    m.d.comb += self.result.eq(\n",
        "        sum((a + 128) * b for a, b in zip(a_bytes, b_bytes)))\n",
        "\n",
        "\n",
        "class WordMultiplyAddTest(TestBase):\n",
        "  def create_dut(self):\n",
        "    return WordMultiplyAdd()\n",
        "  \n",
        "  def test(self):\n",
        "    def a(a, b, c, d): return pack_vals(a, b, c, d, offset=-128)\n",
        "    def b(a, b, c, d): return pack_vals(a, b, c, d, offset=0)\n",
        "    TEST_CASE = [\n",
        "        (a(99, 22, 2, 1), b(-2, 6, 7, 111), 59),\n",
        "        (a(63, 161, 15, 0), b(29, 13, 62, -38), 4850),\n",
        "    ]\n",
        "    def process():\n",
        "      for (a, b, expected) in TEST_CASE:\n",
        "        yield self.dut.a_word.eq(a)\n",
        "        yield self.dut.b_word.eq(b)\n",
        "        yield Delay(0.1)\n",
        "        self.assertEqual(expected, (yield self.dut.result))\n",
        "        yield\n",
        "    self.run_sim(process)\n",
        "\n",
        "runTests(WordMultiplyAddTest)"
      ],
      "metadata": {
        "colab": {
          "base_uri": "https://localhost:8080/"
        },
        "outputId": "005c92f4-2b29-4b89-945e-b413228f148b",
        "id": "9NuMzaAdrvyY"
      },
      "execution_count": null,
      "outputs": [
        {
          "output_type": "stream",
          "name": "stderr",
          "text": [
            ".\n",
            "----------------------------------------------------------------------\n",
            "Ran 1 test in 0.009s\n",
            "\n",
            "OK\n"
          ]
        }
      ]
    },
    {
      "cell_type": "code",
      "source": [
        "class WordMultiplyAccumulate(SimpleElaboratable):\n",
        "  def __init__(self):\n",
        "    self.a_word = Signal(32)\n",
        "    self.b_word = Signal(32)\n",
        "    self.accumulator = Signal(signed(32))\n",
        "    self.enable = Signal()\n",
        "    self.clear = Signal()\n",
        "  def elab(self, m):\n",
        "    a_bytes = [self.a_word[i:i+8].as_signed() for i in range(0, 32, 8)]\n",
        "    b_bytes = [self.b_word[i:i+8].as_signed() for i in range(0, 32, 8)]\n",
        "    calculations = ((a + 128) * b for a, b in zip(a_bytes, b_bytes))\n",
        "    summed = sum(calculations)\n",
        "    with m.If(self.enable):\n",
        "      m.d.sync += self.accumulator.eq(self.accumulator + summed)\n",
        "    with m.If(self.clear):\n",
        "      m.d.sync += self.accumulator.eq(0)\n",
        "\n",
        "\n",
        "class WordMultiplyAccumulateTest(TestBase):\n",
        "  def create_dut(self):\n",
        "    return WordMultiplyAccumulate()\n",
        "  \n",
        "  def test(self):\n",
        "    def a(a, b, c, d): return pack_vals(a, b, c, d, offset=-128)\n",
        "    def b(a, b, c, d): return pack_vals(a, b, c, d, offset=0)\n",
        "    DATA = [\n",
        "        # (a_word, b_word, enable, clear), expected accumulator\n",
        "        ((a(0, 0, 0, 0),  b(0, 0, 0, 0), 0, 0), 0),\n",
        "\n",
        "        # Simple tests: with just first byte\n",
        "        ((a(10, 0, 0, 0), b(3, 0, 0, 0),  1, 0),   0),\n",
        "        ((a(11, 0, 0, 0), b(-4, 0, 0, 0), 1, 0),  30),\n",
        "        ((a(11, 0, 0, 0), b(-4, 0, 0, 0), 0, 0), -14),\n",
        "        # Since was not enabled last cycle, accumulator will not change\n",
        "        ((a(11, 0, 0, 0), b(-4, 0, 0, 0), 1, 0), -14),\n",
        "        # Since was enabled last cycle, will change accumlator\n",
        "        ((a(11, 0, 0, 0), b(-4, 0, 0, 0), 0, 1), -58),\n",
        "        # Accumulator cleared\n",
        "        ((a(11, 0, 0, 0), b(-4, 0, 0, 0), 0, 0),  0),\n",
        "\n",
        "        # Uses all bytes (calculated on a spreadsheet)\n",
        "        ((a(99, 22, 2, 1),      b(-2, 6, 7, 111), 1, 0),             0),\n",
        "        ((a(2, 45, 79, 22),     b(-33, 6, -97, -22), 1, 0),         59),\n",
        "        ((a(23, 34, 45, 56),    b(-128, -121, 119, 117), 1, 0),  -7884),\n",
        "        ((a(188, 34, 236, 246), b(-87, 56, 52, -117), 1, 0),     -3035),\n",
        "        ((a(131, 92, 21, 83),   b(-114, -72, -31, -44), 1, 0),  -33997),\n",
        "        ((a(74, 68, 170, 39),   b(102, 12, 53, -128), 1, 0),    -59858),\n",
        "        ((a(16, 63, 1, 198),    b(29, 36, 106, 62), 1, 0),      -47476),\n",
        "        ((a(0, 0, 0, 0),        b(0, 0, 0, 0), 0, 1),           -32362),\n",
        "\n",
        "        # Interesting bug\n",
        "        ((a(128, 0, 0, 0), b(-104, 0, 0, 0), 1, 0), 0),\n",
        "        ((a(0, 51, 0, 0), b(0, 43, 0, 0), 1, 0), -13312),\n",
        "        ((a(0, 0, 97, 0), b(0, 0, -82, 0), 1, 0), -11119),\n",
        "        ((a(0, 0, 0, 156), b(0, 0, 0, -83), 1, 0), -19073),\n",
        "        ((a(0, 0, 0, 0), b(0, 0, 0, 0), 1, 0), -32021),\n",
        "    ]\n",
        "\n",
        "    dut = self.dut\n",
        "\n",
        "    def process():\n",
        "        for (a_word, b_word, enable, clear), expected in DATA:\n",
        "            yield dut.a_word.eq(a_word)\n",
        "            yield dut.b_word.eq(b_word)\n",
        "            yield dut.enable.eq(enable)\n",
        "            yield dut.clear.eq(clear)\n",
        "            yield Delay(0.1)  # Wait for input values to settle\n",
        "\n",
        "            # Check on accumulator, as calcuated last cycle\n",
        "            self.assertEqual(expected, (yield dut.accumulator))\n",
        "            yield Tick()\n",
        "    self.run_sim(process)\n",
        "\n",
        "runTests(WordMultiplyAccumulateTest)  "
      ],
      "metadata": {
        "colab": {
          "base_uri": "https://localhost:8080/"
        },
        "outputId": "cefa06a0-34a5-417d-8247-bd70d2dd620b",
        "id": "P5TAN2hG06Jp"
      },
      "execution_count": null,
      "outputs": [
        {
          "output_type": "stream",
          "name": "stderr",
          "text": [
            ".\n",
            "----------------------------------------------------------------------\n",
            "Ran 1 test in 0.024s\n",
            "\n",
            "OK\n"
          ]
        }
      ]
    },
    {
      "cell_type": "code",
      "source": [
        "class WordMultiplyAccumulateInstruction(InstructionBase):"
      ],
      "metadata": {
        "id": "jT05EyAr66pO"
      },
      "execution_count": null,
      "outputs": []
    },
    {
      "cell_type": "code",
      "source": [
        "class SyncAndComb(Elaboratable):\n",
        "  def __init__(self):\n",
        "    self.out = Signal(1)\n",
        "    self.ports = [self.out]\n",
        "  def elaborate(self, platform):\n",
        "    m = Module()\n",
        "    counter = Signal(2)\n",
        "    m.d.sync += counter.eq(counter + 1)\n",
        "    m.d.comb += self.out.eq(counter[-1])\n",
        "    return m\n",
        "print(convert_elaboratable(SyncAndComb()))"
      ],
      "metadata": {
        "id": "IatfJJSUrg7j"
      },
      "execution_count": null,
      "outputs": []
    },
    {
      "cell_type": "code",
      "metadata": {
        "id": "rxK06gSm9NNf"
      },
      "source": [
        "class ConditionalEnable(Elaboratable):\n",
        "  def __init__(self):\n",
        "    self.up = Signal()\n",
        "    self.down = Signal()\n",
        "    self.value = Signal(5)\n",
        "    self.ports = [self.value, self.up, self.down]\n",
        "\n",
        "  def elaborate(self, platform):\n",
        "    m = Module()\n",
        "    with m.If(self.up):\n",
        "      m.d.sync += self.value.eq(self.value + 1)\n",
        "    with m.Elif(self.down):\n",
        "      m.d.sync += self.value.eq(self.value - 1)\n",
        "    return m\n",
        "\n",
        "print(convert_elaboratable(ConditionalEnable()))\n",
        "    "
      ],
      "execution_count": null,
      "outputs": []
    },
    {
      "cell_type": "code",
      "source": [
        "# Edge detector and test cases\n",
        "class EdgeDetector(SimpleElaboratable):\n",
        "  \"\"\"Detects low-high transitions in a signal\"\"\"\n",
        "  def __init__(self):\n",
        "    self.input = Signal()\n",
        "    self.detected = Signal()\n",
        "  def elab(self, m):\n",
        "    last = Signal()\n",
        "    m.d.sync += last.eq(self.input)\n",
        "    m.d.comb += self.detected.eq(self.input & ~last)\n",
        "    \n",
        "class EdgeDetectorTestCase(AmaranthTestBase):\n",
        "  def create_dut(self):\n",
        "    return EdgeDetector()\n",
        "\n",
        "  def test_with_table(self):\n",
        "    TEST_CASE = [\n",
        "      (0, 0),\n",
        "      (1, 1),\n",
        "      (0, 0),\n",
        "      (0, 0),\n",
        "      (1, 1),\n",
        "      (1, 0),\n",
        "      (0, 0),\n",
        "    ]\n",
        "    def process():\n",
        "      for (input, expected) in TEST_CASE:\n",
        "        # Set input\n",
        "        yield self.dut.input.eq(input)\n",
        "        # Allow some time for signals to propagate\n",
        "        yield Delay(0.1)\n",
        "        self.assertEqual(expected, (yield self.dut.detected))\n",
        "        yield\n",
        "    self.run_sim(process)\n",
        "\n",
        "EdgeDetectorTestCase().runTests()"
      ],
      "metadata": {
        "id": "jSDe5wQ7QP8W"
      },
      "execution_count": null,
      "outputs": []
    }
  ]
}